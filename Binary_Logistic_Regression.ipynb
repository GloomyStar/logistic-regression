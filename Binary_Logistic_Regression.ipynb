{
  "nbformat": 4,
  "nbformat_minor": 0,
  "metadata": {
    "colab": {
      "name": "Binary-Logistic-Regression.ipynb",
      "version": "0.3.2",
      "provenance": [],
      "include_colab_link": true
    },
    "kernelspec": {
      "name": "python3",
      "display_name": "Python 3"
    }
  },
  "cells": [
    {
      "cell_type": "markdown",
      "metadata": {
        "id": "view-in-github",
        "colab_type": "text"
      },
      "source": [
        "<a href=\"https://colab.research.google.com/github/sthalles/logistic-regression/blob/master/Binary_Logistic_Regression.ipynb\" target=\"_parent\"><img src=\"https://colab.research.google.com/assets/colab-badge.svg\" alt=\"Open In Colab\"/></a>"
      ]
    },
    {
      "metadata": {
        "id": "ruxWlF98VBHA",
        "colab_type": "code",
        "colab": {}
      },
      "cell_type": "code",
      "source": [
        "import numpy as np\n",
        "import tensorflow as tf\n",
        "from numpy.linalg import pinv, inv\n",
        "import matplotlib.pyplot as plt"
      ],
      "execution_count": 0,
      "outputs": []
    },
    {
      "metadata": {
        "id": "uwrCd56g_tn-",
        "colab_type": "code",
        "colab": {}
      },
      "cell_type": "code",
      "source": [
        "class DataSet:\n",
        "  def __init__(self, data, targets, valid_classes=None):\n",
        "    if valid_classes is None:\n",
        "      self.valid_classes = np.unique(targets)\n",
        "    else:\n",
        "      self.valid_classes = valid_classes\n",
        "    #print(self.valid_classes)\n",
        "    self.number_of_classes = len(self.valid_classes)\n",
        "    self.data = self.to_dict(data, targets)\n",
        "    \n",
        "    total = 0\n",
        "    for i in self.data.keys():\n",
        "      print(\"Class {0} # of records: {1}\".format(i,len(self.data[i])))\n",
        "      total += len(self.data[i])\n",
        "    print(\"Total:\",total)\n",
        "    \n",
        "  def to_dict(self, data, targets):\n",
        "    data_dict = {}\n",
        "    for x, y in zip(data, targets):\n",
        "      if y in self.valid_classes:\n",
        "        if y not in data_dict:\n",
        "          data_dict[y] = [x.flatten()]\n",
        "        else:\n",
        "          data_dict[y].append(x.flatten())\n",
        "\n",
        "    for i in self.valid_classes:\n",
        "      data_dict[i] = np.asarray(data_dict[i])\n",
        "\n",
        "    return data_dict\n",
        "\n",
        "  def get_data_by_class(self, class_id):\n",
        "    if class_id in self.valid_classes:\n",
        "      return self.data[class_id]\n",
        "    else:\n",
        "      raise (\"Class not found.\")\n",
        "\n",
        "  def get_data_as_dict(self):\n",
        "    return self.data\n",
        "\n",
        "  def get_all_data(self):\n",
        "    data = []\n",
        "    labels = []\n",
        "    for label, class_i_data in self.data.items():\n",
        "      data.extend(class_i_data)\n",
        "      labels.extend(class_i_data.shape[0] * [label])\n",
        "    data = np.asarray(data)\n",
        "    labels = np.asarray(labels)\n",
        "    return data, np.expand_dims(labels,1)"
      ],
      "execution_count": 0,
      "outputs": []
    },
    {
      "metadata": {
        "id": "_eXm_xdpVJ6v",
        "colab_type": "code",
        "colab": {
          "base_uri": "https://localhost:8080/",
          "height": 51
        },
        "outputId": "5805ec13-7ae9-4bfa-87b8-3dd4bdaad4c5"
      },
      "cell_type": "code",
      "source": [
        "mnist = tf.keras.datasets.mnist\n",
        "\n",
        "(x_train, y_train),(x_test, y_test) = mnist.load_data()\n",
        "x_train, x_test = x_train / 255.0, x_test / 255.0"
      ],
      "execution_count": 3,
      "outputs": [
        {
          "output_type": "stream",
          "text": [
            "Downloading data from https://storage.googleapis.com/tensorflow/tf-keras-datasets/mnist.npz\n",
            "11493376/11490434 [==============================] - 0s 0us/step\n"
          ],
          "name": "stdout"
        }
      ]
    },
    {
      "metadata": {
        "id": "iC6Bv_9r-1QW",
        "colab_type": "code",
        "outputId": "4b1ba0e7-a0f0-4f4b-b70b-57c198da58c4",
        "colab": {
          "base_uri": "https://localhost:8080/",
          "height": 119
        }
      },
      "cell_type": "code",
      "source": [
        "train_dataset = DataSet(x_train, y_train, valid_classes=[0,1])\n",
        "inputs, targets = train_dataset.get_all_data()\n",
        "\n",
        "test_dataset = DataSet(x_test, y_test, valid_classes=[0,1])\n",
        "test_inputs, test_targets = test_dataset.get_all_data()"
      ],
      "execution_count": 4,
      "outputs": [
        {
          "output_type": "stream",
          "text": [
            "Class 0 # of records: 5923\n",
            "Class 1 # of records: 6742\n",
            "Total: 12665\n",
            "Class 1 # of records: 1135\n",
            "Class 0 # of records: 980\n",
            "Total: 2115\n"
          ],
          "name": "stdout"
        }
      ]
    },
    {
      "metadata": {
        "id": "Uow9yEhKWOsr",
        "colab_type": "code",
        "outputId": "6f7765a7-af49-4225-8d0e-cba83fcb733c",
        "colab": {
          "base_uri": "https://localhost:8080/",
          "height": 51
        }
      },
      "cell_type": "code",
      "source": [
        "print(\"inputs shape:\",inputs.shape)\n",
        "print(\"targets shape:\",targets.shape)"
      ],
      "execution_count": 5,
      "outputs": [
        {
          "output_type": "stream",
          "text": [
            "inputs shape: (12665, 784)\n",
            "targets shape: (12665, 1)\n"
          ],
          "name": "stdout"
        }
      ]
    },
    {
      "metadata": {
        "id": "vk0WRmnxV8ES",
        "colab_type": "text"
      },
      "cell_type": "markdown",
      "source": [
        "- For an M-dimensional feature space φ, this model has M adjustable parameters\n"
      ]
    },
    {
      "metadata": {
        "id": "ugPAPSamVqcs",
        "colab_type": "code",
        "colab": {}
      },
      "cell_type": "code",
      "source": [
        "def generate_R(predictions):\n",
        "  # N × N diagonal matrix R with elements Rnn = yn(1−yn)\n",
        "  R = np.zeros((predictions.shape[0],predictions.shape[0]))\n",
        "  for i in range(R.shape[0]):\n",
        "    #print(predictions[i])\n",
        "    R[i][i] = predictions[i] * (1-predictions[i])\n",
        "  return R\n",
        "\n",
        "def hessian(x,R):\n",
        "  return np.dot(x.T,np.dot(R,x))\n",
        "    \n",
        "def grad(y,t,x):\n",
        "  # y: models predictions (Batch,)\n",
        "  # t: dataset targets (Batch,)\n",
        "  return np.dot(x.T, (y - t))\n",
        "  \n",
        "  \n",
        "class LogisticRegression:\n",
        "  def __init__(self,fit_intercept=True):\n",
        "    self.fit_intercept = fit_intercept\n",
        "    self.W = None\n",
        "    \n",
        "  \n",
        "  def predict(self,x,y,threshold=0.5):\n",
        "    if self.fit_intercept:\n",
        "      x = self.add_intercept(x)    \n",
        "      \n",
        "    logits = self.forward(x)\n",
        "    predictions = [1 if t >= threshold else 0 for t in logits]\n",
        "    return predictions\n",
        "  \n",
        "  def score(self,x,y):\n",
        "    predictions = self.predict(x,y)\n",
        "    return np.sum(np.squeeze(predictions) == np.squeeze(y)) / len(y)\n",
        "\n",
        "  def sigmoid(self,x):\n",
        "    # Under rather general assumptions, the posterior probability of class C1 can be written \n",
        "    # as a logistic sigmoid acting on a linear function of the feature vector φ so that\n",
        "    return 1. / (1. + np.exp(-x))\n",
        "    \n",
        "  def forward(self,x):\n",
        "    \n",
        "    if self.W is None:\n",
        "      self.W = np.full((x.shape[1],1), 0.01) #np.random.rand(x.shape[1],1)\n",
        "      \n",
        "    linear = np.dot(x,self.W)\n",
        "    return self.sigmoid(linear) # the order dot(x,W) seems correct\n",
        "\n",
        "  def add_intercept(self,x):\n",
        "    # generate a NxM design matrix, with an added column of 1\n",
        "    const = np.ones((x.shape[0],1))\n",
        "    return np.concatenate((const,x),axis=1)\n",
        "\n",
        "  def fit(self,x,y,iterations=2):\n",
        "    \n",
        "    if self.fit_intercept:\n",
        "      x = self.add_intercept(x)\n",
        "      \n",
        "    for i in range(iterations):\n",
        "      predictions = self.forward(x)\n",
        "      R = generate_R(predictions)\n",
        "      H = hessian(x,R)\n",
        "      print(\"Hessian:\",H.shape)\n",
        "      gradients = grad(predictions,y,x)\n",
        "      invH = pinv(H)\n",
        "      #W_new = self.W - 0.2 * gradients\n",
        "      self.W = self.W - np.dot(invH, gradients)"
      ],
      "execution_count": 0,
      "outputs": []
    },
    {
      "metadata": {
        "id": "h_jtcdkEXYEm",
        "colab_type": "code",
        "colab": {}
      },
      "cell_type": "code",
      "source": [
        "clf = LogisticRegression(fit_intercept=True)"
      ],
      "execution_count": 0,
      "outputs": []
    },
    {
      "metadata": {
        "id": "67w28DPic-nQ",
        "colab_type": "text"
      },
      "cell_type": "markdown",
      "source": [
        "- Uses the Newton-Raphson iterative optimization scheme to optimize the values of W"
      ]
    },
    {
      "metadata": {
        "id": "cL0IfcyGx9Az",
        "colab_type": "code",
        "outputId": "81a29165-e81d-4c44-e34a-d0e97c7c4c73",
        "colab": {
          "base_uri": "https://localhost:8080/",
          "height": 51
        }
      },
      "cell_type": "code",
      "source": [
        "clf = LogisticRegression(fit_intercept=True)\n",
        "clf.fit(inputs,targets)"
      ],
      "execution_count": 8,
      "outputs": [
        {
          "output_type": "stream",
          "text": [
            "Hessian: (785, 785)\n",
            "Hessian: (785, 785)\n"
          ],
          "name": "stdout"
        }
      ]
    },
    {
      "metadata": {
        "id": "chpngsbr1xEQ",
        "colab_type": "code",
        "outputId": "473c6c28-2624-4140-abc7-9ad21c48c994",
        "colab": {
          "base_uri": "https://localhost:8080/",
          "height": 34
        }
      },
      "cell_type": "code",
      "source": [
        "acc = clf.score(inputs,targets)\n",
        "print(acc)"
      ],
      "execution_count": 9,
      "outputs": [
        {
          "output_type": "stream",
          "text": [
            "0.9996052112120016\n"
          ],
          "name": "stdout"
        }
      ]
    },
    {
      "metadata": {
        "id": "Vcvwpi-21xHm",
        "colab_type": "code",
        "outputId": "b524e278-1ea9-43ec-929d-24cdda999b42",
        "colab": {
          "base_uri": "https://localhost:8080/",
          "height": 34
        }
      },
      "cell_type": "code",
      "source": [
        "acc = clf.score(test_inputs,test_targets)\n",
        "print(acc)"
      ],
      "execution_count": 10,
      "outputs": [
        {
          "output_type": "stream",
          "text": [
            "0.9985815602836879\n"
          ],
          "name": "stdout"
        }
      ]
    },
    {
      "metadata": {
        "id": "TqOQTF57pmXN",
        "colab_type": "text"
      },
      "cell_type": "markdown",
      "source": [
        "## Evaluating Binary Classifier"
      ]
    },
    {
      "metadata": {
        "id": "pTw780sTpovm",
        "colab_type": "code",
        "colab": {}
      },
      "cell_type": "code",
      "source": [
        "# Compute True positives, True negatives, False positives and False negatives\n",
        "predictions = clf.predict(test_inputs,test_targets)"
      ],
      "execution_count": 0,
      "outputs": []
    },
    {
      "metadata": {
        "id": "-tk8hKI4qM2p",
        "colab_type": "code",
        "colab": {}
      },
      "cell_type": "code",
      "source": [
        "def get_accuracy_params(predictions, targets):\n",
        "\n",
        "  TP=FP=TN=FN=0\n",
        "  for pred, target in zip(predictions,targets):\n",
        "    if pred == 1:\n",
        "      if pred == target:\n",
        "        TP += 1\n",
        "      else:\n",
        "        FP += 1\n",
        "    else: # pred == 0:\n",
        "      if pred == target:\n",
        "        TN += 1\n",
        "      else:\n",
        "        FN += 1\n",
        "  return TP, FP, TN, FN\n",
        "\n",
        "#print(\"True Positives TP: {0}\\nFalse Positives FP: {1}\\nFalse Negatives FN: {2}\\nTrue Negatives TN: {3}\".format(TP,FP,FN,TN))"
      ],
      "execution_count": 0,
      "outputs": []
    },
    {
      "metadata": {
        "id": "A6-bEd_eqiYG",
        "colab_type": "code",
        "colab": {
          "base_uri": "https://localhost:8080/",
          "height": 68
        },
        "outputId": "6b655d7a-53da-4f16-df1c-b866a599b97c"
      },
      "cell_type": "code",
      "source": [
        "TP, FP, TN, FN = get_accuracy_params(predictions,test_targets)\n",
        "print(TP, FP, TN, FN)\n",
        "\n",
        "# ratio of true positives\n",
        "precision = TP / (TP + FP)\n",
        "\n",
        "# true positive ratio\n",
        "recall = TP / (TP + FN)\n",
        "\n",
        "print(\"Precision:\",precision)\n",
        "print(\"Recall:\",recall)"
      ],
      "execution_count": 13,
      "outputs": [
        {
          "output_type": "stream",
          "text": [
            "1134 2 978 1\n",
            "Precision: 0.9982394366197183\n",
            "Recall: 0.9991189427312775\n"
          ],
          "name": "stdout"
        }
      ]
    },
    {
      "metadata": {
        "id": "Zn2l_IObqqjL",
        "colab_type": "code",
        "colab": {}
      },
      "cell_type": "code",
      "source": [
        "thresholds = [0.0001, 0.001, 0.01, 0.1, 0.3, 0.3, 0.4, 0.5, 0.6, 0.7, 0.8, 0.9]\n",
        "TPRs = []\n",
        "FPRs = []\n",
        "for t in thresholds:\n",
        "  predictions = clf.predict(test_inputs, test_targets, threshold=t)\n",
        "  TP, FP, TN, FN = get_accuracy_params(predictions,test_targets)\n",
        "  TPR = TP / (TP + FN) # recall\n",
        "  FPR = FP / (FP + TN) # false positive rate\n",
        "  TPRs.append(TPR)\n",
        "  FPRs.append(FPR)"
      ],
      "execution_count": 0,
      "outputs": []
    },
    {
      "metadata": {
        "id": "ZBpgaqRHttUf",
        "colab_type": "code",
        "colab": {
          "base_uri": "https://localhost:8080/",
          "height": 347
        },
        "outputId": "b4135a57-347f-4909-eee3-71b83e40942a"
      },
      "cell_type": "code",
      "source": [
        "plt.plot(FPRs,TPRs)\n",
        "plt.show()"
      ],
      "execution_count": 15,
      "outputs": [
        {
          "output_type": "display_data",
          "data": {
            "image/png": "[encoded data removed]",
            "text/plain": [
              "<Figure size 576x396 with 1 Axes>"
            ]
          },
          "metadata": {
            "tags": []
          }
        }
      ]
    },
    {
      "metadata": {
        "id": "0wLZP3RWwdiB",
        "colab_type": "code",
        "colab": {}
      },
      "cell_type": "code",
      "source": [
        ""
      ],
      "execution_count": 0,
      "outputs": []
    }
  ]
}